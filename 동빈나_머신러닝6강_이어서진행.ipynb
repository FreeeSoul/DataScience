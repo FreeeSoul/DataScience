{
  "nbformat": 4,
  "nbformat_minor": 0,
  "metadata": {
    "colab": {
      "provenance": [],
      "authorship_tag": "ABX9TyMLObM/YR/yg5DORXhiU/+R",
      "include_colab_link": true
    },
    "kernelspec": {
      "name": "python3",
      "display_name": "Python 3"
    },
    "language_info": {
      "name": "python"
    }
  },
  "cells": [
    {
      "cell_type": "markdown",
      "metadata": {
        "id": "view-in-github",
        "colab_type": "text"
      },
      "source": [
        "<a href=\"https://colab.research.google.com/github/FreeeSoul/DataScience/blob/main/%EB%8F%99%EB%B9%88%EB%82%98_%EB%A8%B8%EC%8B%A0%EB%9F%AC%EB%8B%9D6%EA%B0%95_%EC%9D%B4%EC%96%B4%EC%84%9C%EC%A7%84%ED%96%89.ipynb\" target=\"_parent\"><img src=\"https://colab.research.google.com/assets/colab-badge.svg\" alt=\"Open In Colab\"/></a>"
      ]
    },
    {
      "cell_type": "code",
      "execution_count": null,
      "metadata": {
        "colab": {
          "base_uri": "https://localhost:8080/"
        },
        "id": "6QGSG5_iywG2",
        "outputId": "66efc6f5-d769-4fc7-c888-74ed3c33f167"
      },
      "outputs": [
        {
          "output_type": "stream",
          "name": "stderr",
          "text": [
            "WARNING:tensorflow:From /usr/local/lib/python3.8/dist-packages/tensorflow/python/compat/v2_compat.py:107: disable_resource_variables (from tensorflow.python.ops.variable_scope) is deprecated and will be removed in a future version.\n",
            "Instructions for updating:\n",
            "non-resource variables are not supported in the long term\n"
          ]
        }
      ],
      "source": [
        "import tensorflow.compat.v1 as tf\n",
        "tf.disable_v2_behavior()"
      ]
    },
    {
      "cell_type": "code",
      "source": [
        "a = tf.Variable(5) # 5를 담은 텐서 생성\n",
        "b = tf.Variable(3) # 3를 담은 텐서 생성\n",
        "c = tf.multiply(a, b) # c도 텐서 자료형이다.\n",
        "init = tf.global_variables_initializer() # 파이썬과 다르게 텐서플로우는 변수를 사용하기 전에 텐서플로우에 이용할 수 있는 형태로 초기화를 먼저 시켜줘야 한다.\n",
        "sess = tf.Session()\n",
        "sess.run(init) # 세션을 run하기 전에 init을 이용해 먼저 초기화를 해줘야 한다.\n",
        "sess.run(c)"
      ],
      "metadata": {
        "colab": {
          "base_uri": "https://localhost:8080/"
        },
        "id": "eXYqXisSy_qm",
        "outputId": "f33e7798-ebcf-42c5-e4fa-6c2a409db38f"
      },
      "execution_count": null,
      "outputs": [
        {
          "output_type": "execute_result",
          "data": {
            "text/plain": [
              "15"
            ]
          },
          "metadata": {},
          "execution_count": 4
        }
      ]
    },
    {
      "cell_type": "code",
      "source": [
        "a = tf.Variable(100) # 만약 텐서 a의 값을 수정했따면??"
      ],
      "metadata": {
        "id": "952493VY0U_f"
      },
      "execution_count": null,
      "outputs": []
    },
    {
      "cell_type": "code",
      "source": [
        "c = tf.multiply(a, b) # 연산 텐서인 c도 다시 수정 필요\n",
        "init = tf.global_variables_initializer() # 세션을 run하기전에 init에 대한 초기화도 다시 해주어야 한다.\n",
        "sess.run(init)\n",
        "sess.run(c)"
      ],
      "metadata": {
        "colab": {
          "base_uri": "https://localhost:8080/"
        },
        "id": "J7nnk61x0ag_",
        "outputId": "f3930b55-5884-4f2a-b9c6-dc67db7e6d12"
      },
      "execution_count": null,
      "outputs": [
        {
          "output_type": "execute_result",
          "data": {
            "text/plain": [
              "300"
            ]
          },
          "metadata": {},
          "execution_count": 7
        }
      ]
    },
    {
      "cell_type": "markdown",
      "source": [
        "#2. Placeholer 함수 이해하기\n",
        "이 함수도 매우 중요하니 잘 이해하기"
      ],
      "metadata": {
        "id": "Jn7zNRHU02Jz"
      }
    },
    {
      "cell_type": "markdown",
      "source": [
        "플레이스홀더는 다른 텐서를 할당하기 위해 사용. 또한 실제로 값을 할당할 때는 피딩(Feeding)을 수행함."
      ],
      "metadata": {
        "id": "bn-hRjdi1Mp2"
      }
    },
    {
      "cell_type": "code",
      "source": [
        "input = [1, 2, 3, 4, 5]"
      ],
      "metadata": {
        "id": "ruyhGfSA07lu"
      },
      "execution_count": null,
      "outputs": []
    },
    {
      "cell_type": "code",
      "source": [
        "x = tf.placeholder(dtype=tf.float32) # 우리는 나중에 학습할 때 x에 여러 개의 값(input)을 넣을 것이기 때문에 이런 경우는 placeholer를 이용해 미리 초기화가 필요함.\n",
        "                                      # 사실 머신러닝 학습할 때 무조건 여러 개의 값 넣어서 하니까 걍 무조건 placeholder 사용한다고 보면 됨. placeholder = 어떠한 수들을 담는 그릇!\n",
        "y = x + 5"
      ],
      "metadata": {
        "id": "Jf-3kElM2laH"
      },
      "execution_count": null,
      "outputs": []
    },
    {
      "cell_type": "code",
      "source": [
        "sess = tf.Session()\n",
        "sess.run(y, feed_dict= {x : input})"
      ],
      "metadata": {
        "colab": {
          "base_uri": "https://localhost:8080/"
        },
        "id": "1ignOrI82-sP",
        "outputId": "cca9d79b-2d43-4d89-d484-e874dbdc96ac"
      },
      "execution_count": null,
      "outputs": [
        {
          "output_type": "execute_result",
          "data": {
            "text/plain": [
              "array([ 6.,  7.,  8.,  9., 10.], dtype=float32)"
            ]
          },
          "metadata": {},
          "execution_count": 11
        }
      ]
    },
    {
      "cell_type": "markdown",
      "source": [
        "#3. placeholder 예제2"
      ],
      "metadata": {
        "id": "jCxuyk6V3jBf"
      }
    },
    {
      "cell_type": "code",
      "source": [
        "mathscore = [100, 20, 34, 99, 2]\n",
        "Englishscore = [23, 88, 12, 67, 84]"
      ],
      "metadata": {
        "id": "JnBD_wr53lkW"
      },
      "execution_count": null,
      "outputs": []
    },
    {
      "cell_type": "code",
      "source": [
        "tensor_1 = tf.placeholder(dtype=tf.float32)\n",
        "tensor_2 = tf.placeholder(dtype=tf.float32)\n",
        "y = (tensor_1 + tensor_2) / 2"
      ],
      "metadata": {
        "id": "FBBrrLrE3wJu"
      },
      "execution_count": null,
      "outputs": []
    },
    {
      "cell_type": "code",
      "source": [
        "sess = tf.Session()\n",
        "sess.run(y, feed_dict = {tensor_1 : mathscore, tensor_2 : Englishscore}) # tensor_1 라는 placeholder 그릇에는 mathscore를 담고, tensor_2라는 placeholder그릇에는 Englishscore를 담는다."
      ],
      "metadata": {
        "colab": {
          "base_uri": "https://localhost:8080/"
        },
        "id": "fWSiuBSs37Gy",
        "outputId": "12da0c48-d517-45a8-92c4-44d9c008d40a"
      },
      "execution_count": null,
      "outputs": [
        {
          "output_type": "execute_result",
          "data": {
            "text/plain": [
              "array([61.5, 54. , 23. , 83. , 43. ], dtype=float32)"
            ]
          },
          "metadata": {},
          "execution_count": 16
        }
      ]
    }
  ]
}